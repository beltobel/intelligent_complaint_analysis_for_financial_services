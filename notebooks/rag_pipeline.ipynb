{
 "cells": [
  {
   "cell_type": "code",
   "execution_count": 1,
   "id": "ad7235d1",
   "metadata": {},
   "outputs": [
    {
     "name": "stderr",
     "output_type": "stream",
     "text": [
      "C:\\Users\\belet\\AppData\\Roaming\\Python\\Python313\\site-packages\\tqdm\\auto.py:21: TqdmWarning: IProgress not found. Please update jupyter and ipywidgets. See https://ipywidgets.readthedocs.io/en/stable/user_install.html\n",
      "  from .autonotebook import tqdm as notebook_tqdm\n"
     ]
    }
   ],
   "source": [
    "import chromadb\n",
    "from sentence_transformers import SentenceTransformer\n",
    "from transformers import pipeline\n"
   ]
  },
  {
   "cell_type": "code",
   "execution_count": 2,
   "id": "c1a9d383",
   "metadata": {},
   "outputs": [],
   "source": [
    "\n",
    "# --- Load embedding model and ChromaDB collection (reuse from Task 2) ---\n",
    "embedding_model = SentenceTransformer('sentence-transformers/all-MiniLM-L6-v2')\n",
    "client = chromadb.PersistentClient(path=\"./vector_store\")\n",
    "collection = client.get_or_create_collection(name=\"cfpb_complaints\")\n"
   ]
  },
  {
   "cell_type": "code",
   "execution_count": 3,
   "id": "3e2fdfe0",
   "metadata": {},
   "outputs": [],
   "source": [
    "\n",
    "# --- Retriever function ---\n",
    "def retrieve_relevant_chunks(question, k=5):\n",
    "    question_embedding = embedding_model.encode(question).tolist()\n",
    "    results = collection.query(\n",
    "        query_embeddings=[question_embedding],\n",
    "        n_results=k,\n",
    "        include=['documents', 'metadatas']\n",
    "    )\n",
    "    # Flatten results for easy use\n",
    "    docs = results['documents'][0]\n",
    "    metas = results['metadatas'][0]\n",
    "    return docs, metas\n"
   ]
  },
  {
   "cell_type": "code",
   "execution_count": 4,
   "id": "d3677cf4",
   "metadata": {},
   "outputs": [],
   "source": [
    "\n",
    "# --- Prompt template ---\n",
    "PROMPT_TEMPLATE = (\n",
    "    \"You are a financial analyst assistant for CrediTrust. \"\n",
    "    \"Your task is to answer questions about customer complaints. \"\n",
    "    \"Use the following retrieved complaint excerpts to formulate your answer. \"\n",
    "    \"If the context doesn't contain the answer, state that you don't have enough information.\\n\\n\"\n",
    "    \"Context:\\n{context}\\n\\nQuestion: {question}\\nAnswer:\"\n",
    ")\n"
   ]
  },
  {
   "cell_type": "code",
   "execution_count": 5,
   "id": "015dd083",
   "metadata": {},
   "outputs": [
    {
     "name": "stderr",
     "output_type": "stream",
     "text": [
      "C:\\Users\\belet\\AppData\\Roaming\\Python\\Python313\\site-packages\\huggingface_hub\\file_download.py:143: UserWarning: `huggingface_hub` cache-system uses symlinks by default to efficiently store duplicated files but your machine does not support them in C:\\Users\\belet\\.cache\\huggingface\\hub\\models--google--flan-t5-base. Caching files will still work but in a degraded version that might require more space on your disk. This warning can be disabled by setting the `HF_HUB_DISABLE_SYMLINKS_WARNING` environment variable. For more details, see https://huggingface.co/docs/huggingface_hub/how-to-cache#limitations.\n",
      "To support symlinks on Windows, you either need to activate Developer Mode or to run Python as an administrator. In order to activate developer mode, see this article: https://docs.microsoft.com/en-us/windows/apps/get-started/enable-your-device-for-development\n",
      "  warnings.warn(message)\n",
      "Device set to use cpu\n",
      "The model 'T5ForConditionalGeneration' is not supported for text-generation. Supported models are ['PeftModelForCausalLM', 'AriaTextForCausalLM', 'BambaForCausalLM', 'BartForCausalLM', 'BertLMHeadModel', 'BertGenerationDecoder', 'BigBirdForCausalLM', 'BigBirdPegasusForCausalLM', 'BioGptForCausalLM', 'BitNetForCausalLM', 'BlenderbotForCausalLM', 'BlenderbotSmallForCausalLM', 'BloomForCausalLM', 'CamembertForCausalLM', 'LlamaForCausalLM', 'CodeGenForCausalLM', 'CohereForCausalLM', 'Cohere2ForCausalLM', 'CpmAntForCausalLM', 'CTRLLMHeadModel', 'Data2VecTextForCausalLM', 'DbrxForCausalLM', 'DeepseekV3ForCausalLM', 'DiffLlamaForCausalLM', 'ElectraForCausalLM', 'Emu3ForCausalLM', 'ErnieForCausalLM', 'FalconForCausalLM', 'FalconMambaForCausalLM', 'FuyuForCausalLM', 'GemmaForCausalLM', 'Gemma2ForCausalLM', 'Gemma3ForConditionalGeneration', 'Gemma3ForCausalLM', 'GitForCausalLM', 'GlmForCausalLM', 'Glm4ForCausalLM', 'GotOcr2ForConditionalGeneration', 'GPT2LMHeadModel', 'GPT2LMHeadModel', 'GPTBigCodeForCausalLM', 'GPTNeoForCausalLM', 'GPTNeoXForCausalLM', 'GPTNeoXJapaneseForCausalLM', 'GPTJForCausalLM', 'GraniteForCausalLM', 'GraniteMoeForCausalLM', 'GraniteMoeHybridForCausalLM', 'GraniteMoeSharedForCausalLM', 'HeliumForCausalLM', 'JambaForCausalLM', 'JetMoeForCausalLM', 'LlamaForCausalLM', 'Llama4ForCausalLM', 'Llama4ForCausalLM', 'MambaForCausalLM', 'Mamba2ForCausalLM', 'MarianForCausalLM', 'MBartForCausalLM', 'MegaForCausalLM', 'MegatronBertForCausalLM', 'MistralForCausalLM', 'MixtralForCausalLM', 'MllamaForCausalLM', 'MoshiForCausalLM', 'MptForCausalLM', 'MusicgenForCausalLM', 'MusicgenMelodyForCausalLM', 'MvpForCausalLM', 'NemotronForCausalLM', 'OlmoForCausalLM', 'Olmo2ForCausalLM', 'OlmoeForCausalLM', 'OpenLlamaForCausalLM', 'OpenAIGPTLMHeadModel', 'OPTForCausalLM', 'PegasusForCausalLM', 'PersimmonForCausalLM', 'PhiForCausalLM', 'Phi3ForCausalLM', 'Phi4MultimodalForCausalLM', 'PhimoeForCausalLM', 'PLBartForCausalLM', 'ProphetNetForCausalLM', 'QDQBertLMHeadModel', 'Qwen2ForCausalLM', 'Qwen2MoeForCausalLM', 'Qwen3ForCausalLM', 'Qwen3MoeForCausalLM', 'RecurrentGemmaForCausalLM', 'ReformerModelWithLMHead', 'RemBertForCausalLM', 'RobertaForCausalLM', 'RobertaPreLayerNormForCausalLM', 'RoCBertForCausalLM', 'RoFormerForCausalLM', 'RwkvForCausalLM', 'Speech2Text2ForCausalLM', 'StableLmForCausalLM', 'Starcoder2ForCausalLM', 'TransfoXLLMHeadModel', 'TrOCRForCausalLM', 'WhisperForCausalLM', 'XGLMForCausalLM', 'XLMWithLMHeadModel', 'XLMProphetNetForCausalLM', 'XLMRobertaForCausalLM', 'XLMRobertaXLForCausalLM', 'XLNetLMHeadModel', 'XmodForCausalLM', 'ZambaForCausalLM', 'Zamba2ForCausalLM'].\n"
     ]
    }
   ],
   "source": [
    "\n",
    "# --- Generator (using Hugging Face pipeline, can swap for LangChain LLM) ---\n",
    "# You can use 'google/flan-t5-base', 'mistralai/Mistral-7B-Instruct-v0.2', etc.\n",
    "llm = pipeline(\"text-generation\", model=\"google/flan-t5-base\", max_new_tokens=256)\n"
   ]
  },
  {
   "cell_type": "code",
   "execution_count": 6,
   "id": "8a257bca",
   "metadata": {},
   "outputs": [],
   "source": [
    "\n",
    "def generate_answer(question, context_chunks):\n",
    "    context = \"\\n\".join(context_chunks)\n",
    "    prompt = PROMPT_TEMPLATE.format(context=context, question=question)\n",
    "    response = llm(prompt)[0]['generated_text']\n",
    "    # Remove the prompt from the output if needed\n",
    "    answer = response.split(\"Answer:\")[-1].strip()\n",
    "    return answer\n"
   ]
  },
  {
   "cell_type": "code",
   "execution_count": 7,
   "id": "a01db00a",
   "metadata": {},
   "outputs": [
    {
     "name": "stderr",
     "output_type": "stream",
     "text": [
      "Token indices sequence length is longer than the specified maximum sequence length for this model (518 > 512). Running this sequence through the model will result in indexing errors\n"
     ]
    }
   ],
   "source": [
    "\n",
    "# --- Example evaluation loop ---\n",
    "questions = [\n",
    "    \"What are the most common issues with credit card payments?\",\n",
    "    \"How do customers feel about loan application processes?\",\n",
    "    \"Are there complaints about mobile banking app security?\",\n",
    "    \"What problems do users report with account closures?\",\n",
    "    \"Is there any mention of overdraft fees in the complaints?\"\n",
    "]\n",
    "\n",
    "evaluation_results = []\n",
    "\n",
    "for q in questions:\n",
    "    retrieved_chunks, retrieved_metas = retrieve_relevant_chunks(q, k=5)\n",
    "    answer = generate_answer(q, retrieved_chunks)\n",
    "    # For reporting, show only the first 1-2 retrieved sources\n",
    "    sources = retrieved_chunks[:2]\n",
    "    evaluation_results.append({\n",
    "        \"Question\": q,\n",
    "        \"Generated Answer\": answer,\n",
    "        \"Retrieved Sources\": sources,\n",
    "        \"Quality Score\": \"\",  # Fill in after manual review\n",
    "        \"Comments/Analysis\": \"\"  # Fill in after manual review\n",
    "    })\n"
   ]
  },
  {
   "cell_type": "code",
   "execution_count": 8,
   "id": "8a2851f7",
   "metadata": {},
   "outputs": [
    {
     "name": "stdout",
     "output_type": "stream",
     "text": [
      "| Question | Generated Answer | Retrieved Sources | Quality Score | Comments/Analysis |\n",
      "|---|---|---|---|---|\n",
      "| What are the most common issues with credit card payments? |  | submitting complaint regarding checking account credit card navy federal credit union nfcu following issues require immediate attention overdraft fees authorized transactions nfcu repeatedly allowed transactions process checking account insufficient funds resulting overdraft fees xxxx practice appears predatory causes unnecessary financial hardship failure honor interest rate cap la xxxx xxxx activeduty service member entitled cap interest rates louisiana law xxxx xxxx despite xxxx xxxx nfcu<br>upload cards paypal use xxxxxxxx xxxxxxxx see money xxxx send occasions returned paid back minute ocasions said transaction done mistake request money back would like mention xxxx xxxx xxxx credit card name actually send money fathers mother credit cards since share name soon multiple charges parents credit cards understand paypal aloud use somebody else credit cards paypal got cash people scam parents denied charges credit credit companies got money back totaling victim harrased paypal forcing |  |  |\n",
      "| How do customers feel about loan application processes? |  | onemain financial holding loan apply provided evidence proof got loan result identity theft provided signature proof stating digital meanwhile wasnt wet signature xxxx docusign automated sign secondly showed void check bank info dont understand know got stated took refinanced loan kid braces meanwhile health insurance kid never even gotten braces never made payments xxxx xxxx xxxx account stated refinanced fraudulent loan identity stolen paid chargeoff hit credit didnt know could dispute debt<br>hit credit didnt know could dispute debt known could dispute debt would never paid didnt know never identity stolen application please review enclosed documentation |  |  |\n",
      "| Are there complaints about mobile banking app security? |  | xxxx xxxx xxxx approximately xxxxxxxx xxxx xxxx xxxx xxxxxxxx took xxxx cash app account tried reach cash app cash app telephone representatives couldnt tell hard earn money went xxxx xxxx xxxx take money neither site access card use attempts talking representatives cash app closed account failed comply<br>xxxx note account fully verified xxxx processed many transactions unreasonable suspicious gemini request despite request obliged documents needed heard nothing back read online dozens users sharing experience recently gemini accept unlimited deposits freeze money arbitrarily even providing requested documents |  |  |\n",
      "| What problems do users report with account closures? |  | told issue xxxx would able help despite continued collections closed account<br>called customer service gave us answer said nothing wrong account didnt close representative kept insisting nothing wrong even though bank teller kept telling blocked nothing changing minutes waiting answer specialist response given access account call new number moment call morning main issue account source income one place well closing account notice call nothing communicated gave false answers consistently past couple days truly upsetting truly stressful aggravating |  |  |\n",
      "| Is there any mention of overdraft fees in the complaints? |  | theyre refund three overdraft fees right ask ok mistake really want clarity sudden overdraft paused several times phone wanted focus refund going get least bit satisfied much puzzled strongly believe ive getting screwed hour later check account see total dollars refunded called guy trying explain overdraft explained prior conversation customs service understood would fully refunded getting transfers call complaint department complaint filed guy explains information account hes looking<br>xxxx xxxx nfcu navy federal credit union feel unlawfully took overdraft fees knowing wasnt money account enough money cover additional charges even going far processing charges timely manner would ultimately incur overdraft fees called spoke representatives nfcu fraud case cfpb told noone information know actions taken painstakingly gone years statements add amount fees taken added charges together sum veteran establishment years expected better practices trusted bankcredit union requesting |  |  |\n"
     ]
    }
   ],
   "source": [
    "\n",
    "# --- Print evaluation table in Markdown format ---\n",
    "print(\"| Question | Generated Answer | Retrieved Sources | Quality Score | Comments/Analysis |\")\n",
    "print(\"|---|---|---|---|---|\")\n",
    "for row in evaluation_results:\n",
    "    sources_md = \"<br>\".join(row[\"Retrieved Sources\"])\n",
    "    print(f\"| {row['Question']} | {row['Generated Answer']} | {sources_md} | {row['Quality Score']} | {row['Comments/Analysis']} |\")"
   ]
  },
  {
   "cell_type": "code",
   "execution_count": null,
   "id": "60d59f80",
   "metadata": {},
   "outputs": [],
   "source": []
  }
 ],
 "metadata": {
  "kernelspec": {
   "display_name": "Python 3",
   "language": "python",
   "name": "python3"
  },
  "language_info": {
   "codemirror_mode": {
    "name": "ipython",
    "version": 3
   },
   "file_extension": ".py",
   "mimetype": "text/x-python",
   "name": "python",
   "nbconvert_exporter": "python",
   "pygments_lexer": "ipython3",
   "version": "3.13.1"
  }
 },
 "nbformat": 4,
 "nbformat_minor": 5
}
