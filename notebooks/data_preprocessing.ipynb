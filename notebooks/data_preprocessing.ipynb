{
  "nbformat": 4,
  "nbformat_minor": 0,
  "metadata": {
    "colab": {
      "provenance": [],
      "gpuType": "T4"
    },
    "kernelspec": {
      "name": "python3",
      "display_name": "Python 3"
    },
    "language_info": {
      "name": "python"
    },
    "accelerator": "GPU"
  },
  "cells": [
    {
      "cell_type": "code",
      "source": [
        "from google.colab import drive\n",
        "drive.mount('/content/drive')"
      ],
      "metadata": {
        "colab": {
          "base_uri": "https://localhost:8080/"
        },
        "id": "79kwrym3jFjP",
        "outputId": "c299a59a-59c1-406a-a9fd-3d467397b12e"
      },
      "execution_count": 1,
      "outputs": [
        {
          "output_type": "stream",
          "name": "stdout",
          "text": [
            "Mounted at /content/drive\n"
          ]
        }
      ]
    },
    {
      "cell_type": "code",
      "source": [
        "import pandas as pd"
      ],
      "metadata": {
        "id": "T3xYsa8ZjHf0"
      },
      "execution_count": 2,
      "outputs": []
    },
    {
      "cell_type": "code",
      "source": [
        "df = pd.read_csv(\"/content/drive/My Drive/kifiya5/complaints.csv\")"
      ],
      "metadata": {
        "colab": {
          "base_uri": "https://localhost:8080/"
        },
        "id": "_6ww2VsyjKSL",
        "outputId": "a58008fc-78f2-40c5-cf49-fb4ae3e476d8"
      },
      "execution_count": 3,
      "outputs": [
        {
          "output_type": "stream",
          "name": "stderr",
          "text": [
            "/tmp/ipython-input-3-1083509708.py:1: DtypeWarning: Columns (16) have mixed types. Specify dtype option on import or set low_memory=False.\n",
            "  df = pd.read_csv(\"/content/drive/My Drive/kifiya5/complaints.csv\")\n"
          ]
        }
      ]
    },
    {
      "cell_type": "code",
      "source": [
        "print(\"\\nFirst 5 rows:\")\n",
        "print(df.head())"
      ],
      "metadata": {
        "colab": {
          "base_uri": "https://localhost:8080/"
        },
        "id": "RzSZwuinj4ka",
        "outputId": "e72b43f7-9138-4251-acd0-e6b65eda4b8c"
      },
      "execution_count": 4,
      "outputs": [
        {
          "output_type": "stream",
          "name": "stdout",
          "text": [
            "\n",
            "First 5 rows:\n",
            "  Date received                                            Product  \\\n",
            "0    2025-06-20  Credit reporting or other personal consumer re...   \n",
            "1    2025-06-20                                    Debt collection   \n",
            "2    2025-06-20  Credit reporting or other personal consumer re...   \n",
            "3    2025-06-20  Credit reporting or other personal consumer re...   \n",
            "4    2025-06-20  Credit reporting or other personal consumer re...   \n",
            "\n",
            "               Sub-product                                 Issue  \\\n",
            "0         Credit reporting  Incorrect information on your report   \n",
            "1  Telecommunications debt     Attempts to collect debt not owed   \n",
            "2         Credit reporting           Improper use of your report   \n",
            "3         Credit reporting           Improper use of your report   \n",
            "4         Credit reporting  Incorrect information on your report   \n",
            "\n",
            "                                       Sub-issue Consumer complaint narrative  \\\n",
            "0            Information belongs to someone else                          NaN   \n",
            "1                              Debt is not yours                          NaN   \n",
            "2  Reporting company used your report improperly                          NaN   \n",
            "3  Reporting company used your report improperly                          NaN   \n",
            "4                       Account status incorrect                          NaN   \n",
            "\n",
            "                             Company public response  \\\n",
            "0                                                NaN   \n",
            "1  Company can't verify or dispute the facts in t...   \n",
            "2                                                NaN   \n",
            "3                                                NaN   \n",
            "4                                                NaN   \n",
            "\n",
            "                                        Company State ZIP code Tags  \\\n",
            "0           Experian Information Solutions Inc.    FL    32092  NaN   \n",
            "1  Eastern Account Systems of Connecticut, Inc.    FL    342XX  NaN   \n",
            "2        TRANSUNION INTERMEDIATE HOLDINGS, INC.    AZ    85225  NaN   \n",
            "3           Experian Information Solutions Inc.    AZ    85225  NaN   \n",
            "4           Experian Information Solutions Inc.    IL    60628  NaN   \n",
            "\n",
            "  Consumer consent provided? Submitted via Date sent to company  \\\n",
            "0                        NaN           Web           2025-06-20   \n",
            "1                        NaN           Web           2025-06-20   \n",
            "2                        NaN           Web           2025-06-20   \n",
            "3                        NaN           Web           2025-06-20   \n",
            "4                        NaN           Web           2025-06-20   \n",
            "\n",
            "  Company response to consumer Timely response? Consumer disputed?  \\\n",
            "0                  In progress              Yes                NaN   \n",
            "1      Closed with explanation              Yes                NaN   \n",
            "2                  In progress              Yes                NaN   \n",
            "3                  In progress              Yes                NaN   \n",
            "4                  In progress              Yes                NaN   \n",
            "\n",
            "   Complaint ID  \n",
            "0      14195687  \n",
            "1      14195688  \n",
            "2      14195689  \n",
            "3      14195690  \n",
            "4      14195692  \n"
          ]
        }
      ]
    },
    {
      "cell_type": "code",
      "source": [
        "# prompt: write code to which list all column in df\n",
        "\n",
        "print(\"\\nColumns in the DataFrame:\")\n",
        "df.columns"
      ],
      "metadata": {
        "colab": {
          "base_uri": "https://localhost:8080/"
        },
        "id": "pIS5ajcAj_aq",
        "outputId": "a06a2bfe-6d8f-4f92-9ea6-999af6be9940"
      },
      "execution_count": 7,
      "outputs": [
        {
          "output_type": "stream",
          "name": "stdout",
          "text": [
            "\n",
            "Columns in the DataFrame:\n"
          ]
        },
        {
          "output_type": "execute_result",
          "data": {
            "text/plain": [
              "Index(['Date received', 'Product', 'Sub-product', 'Issue', 'Sub-issue',\n",
              "       'Consumer complaint narrative', 'Company public response', 'Company',\n",
              "       'State', 'ZIP code', 'Tags', 'Consumer consent provided?',\n",
              "       'Submitted via', 'Date sent to company', 'Company response to consumer',\n",
              "       'Timely response?', 'Consumer disputed?', 'Complaint ID'],\n",
              "      dtype='object')"
            ]
          },
          "metadata": {},
          "execution_count": 7
        }
      ]
    },
    {
      "cell_type": "code",
      "execution_count": 9,
      "metadata": {
        "colab": {
          "base_uri": "https://localhost:8080/"
        },
        "id": "5EvFnIhTAVRW",
        "outputId": "47a1ccec-ce98-4c23-a328-aed636d685f2"
      },
      "outputs": [
        {
          "output_type": "stream",
          "name": "stdout",
          "text": [
            "\n",
            "Number of records after filtering by product: 1089873\n",
            "\n",
            "Distribution of filtered products:\n",
            "Product\n",
            "Checking or savings account                                291178\n",
            "Credit card                                                226686\n",
            "Credit card or prepaid card                                206369\n",
            "Debt collection                                            162753\n",
            "Money transfer, virtual currency, or money service         145066\n",
            "Payday loan, title loan, or personal loan                   30641\n",
            "Payday loan, title loan, personal loan, or advance loan     16514\n",
            "Money transfers                                              5354\n",
            "Bank account or service                                      5294\n",
            "Virtual currency                                               18\n",
            "Name: count, dtype: int64\n",
            "\n",
            "Distribution of filtered sub-products:\n",
            "Sub-product\n",
            "General-purpose credit card or charge card          281931\n",
            "Checking account                                    234253\n",
            "Credit card debt                                    134074\n",
            "Domestic (US) money transfer                         76302\n",
            "Store credit card                                    42362\n",
            "Mobile or digital wallet                             37422\n",
            "Credit card                                          28679\n",
            "Other banking product or service                     27998\n",
            "Savings account                                      27700\n",
            "Installment loan                                     22059\n",
            "Virtual currency                                     15484\n",
            "International money transfer                         13939\n",
            "Personal line of credit                              10839\n",
            "Payday loan                                           9614\n",
            "Government benefit card                               9068\n",
            "General-purpose prepaid card                          8531\n",
            "CD (Certificate of Deposit)                           6421\n",
            "Title loan                                            4011\n",
            "Check cashing service                                 1618\n",
            "Money order, traveler's check or cashier's check      1319\n",
            "Foreign currency exchange                             1021\n",
            "Gift card                                             1021\n",
            "Traveler's check or cashier's check                    984\n",
            "Debt settlement                                        946\n",
            "Payroll card                                           918\n",
            "Money order                                            776\n",
            "Refund anticipation check                              627\n",
            "Other advances of future income                        316\n",
            "Earned wage access                                     130\n",
            "Pawn loan                                              127\n",
            "Student prepaid card                                    32\n",
            "Tax refund anticipation loan or check                   25\n",
            "Credit reporting                                         1\n",
            "Name: count, dtype: int64\n"
          ]
        }
      ],
      "source": [
        "# Define the list of specified products (using partial matching for flexibility)\n",
        "specified_products = ['Credit card', 'Personal loan', 'Buy Now, Pay Later', 'Savings account', 'Money transfer']\n",
        "\n",
        "# Filter the dataset using Product and Sub-product columns\n",
        "df_filtered = df[df['Product'].str.contains('|'.join(specified_products), case=False, na=False) |\n",
        "                 df['Sub-product'].str.contains('|'.join(specified_products), case=False, na=False)]\n",
        "\n",
        "# Verify the filtered dataset\n",
        "print(f\"\\nNumber of records after filtering by product: {len(df_filtered)}\")\n",
        "print(\"\\nDistribution of filtered products:\")\n",
        "print(df_filtered['Product'].value_counts())\n",
        "print(\"\\nDistribution of filtered sub-products:\")\n",
        "print(df_filtered['Sub-product'].value_counts())"
      ]
    },
    {
      "cell_type": "code",
      "source": [
        "# Remove records with empty narratives\n",
        "df_filtered = df_filtered[df_filtered['Consumer complaint narrative'].notnull()]\n",
        "df_filtered = df_filtered[df_filtered['Consumer complaint narrative'].str.strip() != '']\n",
        "\n",
        "print(f\"\\nNumber of records after removing empty narratives: {len(df_filtered)}\")"
      ],
      "metadata": {
        "colab": {
          "base_uri": "https://localhost:8080/"
        },
        "id": "69mKuYh3u0qs",
        "outputId": "39aefcf0-efcb-454e-db93-b9597e8f737f"
      },
      "execution_count": 10,
      "outputs": [
        {
          "output_type": "stream",
          "name": "stdout",
          "text": [
            "\n",
            "Number of records after removing empty narratives: 527570\n"
          ]
        }
      ]
    },
    {
      "cell_type": "code",
      "source": [
        "import re\n",
        "from nltk.corpus import stopwords\n",
        "from nltk.tokenize import word_tokenize\n",
        "import nltk\n"
      ],
      "metadata": {
        "id": "JWHSx-3ku2ds"
      },
      "execution_count": 12,
      "outputs": []
    },
    {
      "cell_type": "code",
      "source": [
        "# Download NLTK resources (run once)\n",
        "nltk.download('punkt')\n",
        "nltk.download('stopwords')\n",
        "nltk.download('punkt_tab')"
      ],
      "metadata": {
        "colab": {
          "base_uri": "https://localhost:8080/"
        },
        "id": "fMxXVhCkvTmW",
        "outputId": "d6202f79-3148-4ac6-93c1-9d31635e9bc3"
      },
      "execution_count": 16,
      "outputs": [
        {
          "output_type": "stream",
          "name": "stderr",
          "text": [
            "[nltk_data] Downloading package punkt to /root/nltk_data...\n",
            "[nltk_data]   Package punkt is already up-to-date!\n",
            "[nltk_data] Downloading package stopwords to /root/nltk_data...\n",
            "[nltk_data]   Package stopwords is already up-to-date!\n",
            "[nltk_data] Downloading package punkt_tab to /root/nltk_data...\n",
            "[nltk_data]   Unzipping tokenizers/punkt_tab.zip.\n"
          ]
        },
        {
          "output_type": "execute_result",
          "data": {
            "text/plain": [
              "True"
            ]
          },
          "metadata": {},
          "execution_count": 16
        }
      ]
    },
    {
      "cell_type": "code",
      "source": [
        "\n",
        "# Define a function to clean text\n",
        "def clean_narrative(text):\n",
        "    # Convert to lowercase\n",
        "    text = text.lower()\n",
        "\n",
        "    # Remove special characters, numbers, and punctuation\n",
        "    text = re.sub(r'[^a-z\\s]', '', text)\n",
        "\n",
        "    # Remove boilerplate text (example phrases based on CFPB narrative patterns)\n",
        "    boilerplate_phrases = [\n",
        "        r'i am writing to file a complaint',\n",
        "        r'this is regarding a complaint',\n",
        "        r'please address this issue',\n",
        "        r'consumer complaint',\n",
        "        r'i would like to report'\n",
        "    ]\n",
        "    for phrase in boilerplate_phrases:\n",
        "        text = re.sub(phrase, '', text, flags=re.IGNORECASE)\n",
        "\n",
        "    # Remove extra whitespace\n",
        "    text = ' '.join(text.split())\n",
        "\n",
        "    # Optional: Remove stopwords (only if beneficial for the RAG model)\n",
        "    stop_words = set(stopwords.words('english'))\n",
        "    tokens = word_tokenize(text)\n",
        "    text = ' '.join([word for word in tokens if word not in stop_words])\n",
        "\n",
        "    return text\n"
      ],
      "metadata": {
        "id": "K0RJrSM-vicr"
      },
      "execution_count": 17,
      "outputs": []
    },
    {
      "cell_type": "code",
      "source": [
        "\n",
        "# Apply cleaning to the narratives\n",
        "df_filtered['Cleaned_Narrative'] = df_filtered['Consumer complaint narrative'].apply(clean_narrative)\n"
      ],
      "metadata": {
        "id": "sgEg6ZgovnQ9"
      },
      "execution_count": 18,
      "outputs": []
    },
    {
      "cell_type": "code",
      "source": [
        "# Display a sample of cleaned narratives\n",
        "print(\"\\nSample of cleaned narratives:\")\n",
        "print(df_filtered[['Consumer complaint narrative', 'Cleaned_Narrative']].head())"
      ],
      "metadata": {
        "colab": {
          "base_uri": "https://localhost:8080/"
        },
        "id": "2gpiA7wQvpSz",
        "outputId": "8311e2e6-3826-493d-c31c-ee1da9d78d36"
      },
      "execution_count": 19,
      "outputs": [
        {
          "output_type": "stream",
          "name": "stdout",
          "text": [
            "\n",
            "Sample of cleaned narratives:\n",
            "                            Consumer complaint narrative  \\\n",
            "12237  A XXXX XXXX card was opened under my name by a...   \n",
            "12532  I made the mistake of using my wellsfargo debi...   \n",
            "13280  Dear CFPB, I have a secured credit card with c...   \n",
            "13506  I have a Citi rewards cards. The credit balanc...   \n",
            "13955  b'I am writing to dispute the following charge...   \n",
            "\n",
            "                                       Cleaned_Narrative  \n",
            "12237  xxxx xxxx card opened name fraudster received ...  \n",
            "12532  made mistake using wellsfargo debit card depsi...  \n",
            "13280  dear cfpb secured credit card citibank changed...  \n",
            "13506  citi rewards cards credit balance issued recen...  \n",
            "13955  bi writing dispute following charges citi cred...  \n"
          ]
        }
      ]
    },
    {
      "cell_type": "code",
      "source": [
        "# prompt: # Save the preprocessed dataset\n",
        "# df_filtered[['Complaint ID', 'Product', 'Sub-product', 'Cleaned_Narrative']].to_csv('preprocessed_complaints.csv', index=False)\n",
        "# print(\"\\nPreprocessed dataset saved as 'preprocessed_complaints.csv'\")\n",
        "\n",
        "df_filtered[['Complaint ID', 'Product', 'Sub-product', 'Cleaned_Narrative']].to_csv('/content/drive/My Drive/kifiya5/preprocessed_complaints.csv', index=False)\n",
        "print(\"\\nPreprocessed dataset saved as '/content/drive/My Drive/kifiya5/preprocessed_complaints.csv'\")\n"
      ],
      "metadata": {
        "colab": {
          "base_uri": "https://localhost:8080/"
        },
        "id": "tWcc7ll-1j_M",
        "outputId": "6a0a774f-7002-4697-fb3f-8da67bfb071e"
      },
      "execution_count": 21,
      "outputs": [
        {
          "output_type": "stream",
          "name": "stdout",
          "text": [
            "\n",
            "Preprocessed dataset saved as '/content/drive/My Drive/kifiya5/preprocessed_complaints.csv'\n"
          ]
        }
      ]
    },
    {
      "cell_type": "code",
      "source": [],
      "metadata": {
        "id": "zyrPMhfv2Ej2"
      },
      "execution_count": null,
      "outputs": []
    }
  ]
}